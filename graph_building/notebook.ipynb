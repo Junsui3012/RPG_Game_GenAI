{
 "cells": [
  {
   "cell_type": "markdown",
   "id": "49e54f0d",
   "metadata": {},
   "source": [
    "# Building Graph"
   ]
  },
  {
   "cell_type": "code",
   "execution_count": 1,
   "id": "15bfbe4d",
   "metadata": {},
   "outputs": [],
   "source": [
    "from langgraph.graph import StateGraph, START, END\n",
    "from langchain.chat_models import init_chat_model\n",
    "import os\n",
    "from dotenv import load_dotenv"
   ]
  },
  {
   "cell_type": "code",
   "execution_count": 2,
   "id": "c86c2284",
   "metadata": {},
   "outputs": [],
   "source": [
    "load_dotenv()\n",
    "\n",
    "# api_key = os.getenv(\"GOOGLE_API_Key\")\n",
    "\n",
    "gem = init_chat_model(\"gemini-2.0-flash\", model_provider = \"google_genai\", temperature = 0)\n"
   ]
  },
  {
   "cell_type": "code",
   "execution_count": 3,
   "id": "cb8e0fe6",
   "metadata": {},
   "outputs": [],
   "source": [
    "response = gem.invoke(\"Hello, tell me about yourself\")"
   ]
  },
  {
   "cell_type": "code",
   "execution_count": 4,
   "id": "3226d069",
   "metadata": {},
   "outputs": [
    {
     "name": "stdout",
     "output_type": "stream",
     "text": [
      "As a large language model, I don't have a personal history or experiences like a human. I wasn't born, I don't have feelings, and I don't have a physical body.\n",
      "\n",
      "Here's what I *can* tell you about myself:\n",
      "\n",
      "*   **I am an AI:** I am a computer program trained on a massive dataset of text and code.\n",
      "*   **My purpose is to assist users:** I am designed to understand and respond to your prompts and questions in a helpful and informative way.\n",
      "*   **I can perform various tasks:** I can generate text, translate languages, write different kinds of creative content, and answer your questions in an informative way.\n",
      "*   **I am constantly learning:** My knowledge is based on the data I was trained on, and I am continuously being updated and improved.\n",
      "*   **I was developed by Google.**\n",
      "\n",
      "To give you a more useful answer, could you tell me what you're hoping to learn about me? For example, are you interested in:\n",
      "\n",
      "*   My capabilities?\n",
      "*   How I work?\n",
      "*   My limitations?\n",
      "*   The technology behind me?\n",
      "\n",
      "The more specific you are, the better I can answer!\n"
     ]
    }
   ],
   "source": [
    "print(response.content)"
   ]
  },
  {
   "cell_type": "code",
   "execution_count": null,
   "id": "1434d0f7",
   "metadata": {},
   "outputs": [],
   "source": []
  }
 ],
 "metadata": {
  "kernelspec": {
   "display_name": ".venv",
   "language": "python",
   "name": "python3"
  },
  "language_info": {
   "codemirror_mode": {
    "name": "ipython",
    "version": 3
   },
   "file_extension": ".py",
   "mimetype": "text/x-python",
   "name": "python",
   "nbconvert_exporter": "python",
   "pygments_lexer": "ipython3",
   "version": "3.13.6"
  }
 },
 "nbformat": 4,
 "nbformat_minor": 5
}
