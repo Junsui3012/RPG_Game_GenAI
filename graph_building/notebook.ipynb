{
 "cells": [
  {
   "cell_type": "markdown",
   "id": "49e54f0d",
   "metadata": {},
   "source": [
    "# Building Graph"
   ]
  },
  {
   "cell_type": "code",
   "execution_count": 1,
   "id": "15bfbe4d",
   "metadata": {},
   "outputs": [],
   "source": [
    "from langgraph.graph import StateGraph, START, END\n",
    "from langchain.chat_models import init_chat_model\n",
    "import os\n",
    "from dotenv import load_dotenv"
   ]
  },
  {
   "cell_type": "code",
   "execution_count": null,
   "id": "c86c2284",
   "metadata": {},
   "outputs": [],
   "source": [
    "if not os.environ.get(\"GOOGLE_API_KEY\"):\n",
    "  os.environ[\"GOOGLE_API_KEY\"] = \"your_Gemini_api_key_here\"\n",
    "\n",
    "load_dotenv()\n",
    "\n",
    "gem = init_chat_model(\"gemini-2.0-flash\", model_provider = \"google_genai\", temperature = 0)\n"
   ]
  },
  {
   "cell_type": "code",
   "execution_count": null,
   "id": "cb8e0fe6",
   "metadata": {},
   "outputs": [],
   "source": []
  }
 ],
 "metadata": {
  "kernelspec": {
   "display_name": ".venv",
   "language": "python",
   "name": "python3"
  },
  "language_info": {
   "codemirror_mode": {
    "name": "ipython",
    "version": 3
   },
   "file_extension": ".py",
   "mimetype": "text/x-python",
   "name": "python",
   "nbconvert_exporter": "python",
   "pygments_lexer": "ipython3",
   "version": "3.13.6"
  }
 },
 "nbformat": 4,
 "nbformat_minor": 5
}
